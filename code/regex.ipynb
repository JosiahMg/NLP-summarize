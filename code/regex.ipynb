{
 "cells": [
  {
   "cell_type": "markdown",
   "metadata": {},
   "source": [
    "## 正则表达式"
   ]
  },
  {
   "cell_type": "code",
   "execution_count": 1,
   "metadata": {},
   "outputs": [
    {
     "name": "stdout",
     "output_type": "stream",
     "text": [
      "['a', 'a', 'a', 'a']\n"
     ]
    }
   ],
   "source": [
    "import re\n",
    "\n",
    "# 查找特定字符\n",
    "a = re.findall(\"a\", \"C|Java|C#|Python|Javascript\")\n",
    "print(a)"
   ]
  },
  {
   "cell_type": "code",
   "execution_count": 3,
   "metadata": {},
   "outputs": [
    {
     "name": "stdout",
     "output_type": "stream",
     "text": [
      "['1', '4', '5', '4', '5', '2', '1', '4', '3', '1', '2', '5', '4']\n"
     ]
    }
   ],
   "source": [
    "# 匹配单个数字\n",
    "a = '1C45Java452C#1431254 Python|Javascript'\n",
    "r = re.findall(\"\\d\", a)\n",
    "print(r)"
   ]
  },
  {
   "cell_type": "code",
   "execution_count": 5,
   "metadata": {},
   "outputs": [
    {
     "name": "stdout",
     "output_type": "stream",
     "text": [
      "['1', '45', '452', '1431254']\n"
     ]
    }
   ],
   "source": [
    "# 匹配至少含有1个的连续数字\n",
    "r = re.findall(\"\\d+\", a)\n",
    "print(r)"
   ]
  },
  {
   "cell_type": "code",
   "execution_count": 6,
   "metadata": {},
   "outputs": [
    {
     "name": "stdout",
     "output_type": "stream",
     "text": [
      "['1', '1431']\n"
     ]
    }
   ],
   "source": [
    "# 匹配以1结尾的数字，包含1自己\n",
    "r = re.findall(\"\\d*1\", a)\n",
    "print(r)"
   ]
  },
  {
   "cell_type": "code",
   "execution_count": 7,
   "metadata": {},
   "outputs": [
    {
     "name": "stdout",
     "output_type": "stream",
     "text": [
      "['1C45', 'Java', '452C', '#143', '1254', ' Pyt', 'hon|', 'Java', 'scri']\n"
     ]
    }
   ],
   "source": [
    "# 使用点匹配任意字符, 匹配任意四个字符\n",
    "r = re.findall(\"....\", a)\n",
    "print(r)"
   ]
  },
  {
   "cell_type": "code",
   "execution_count": 8,
   "metadata": {},
   "outputs": [
    {
     "name": "stdout",
     "output_type": "stream",
     "text": [
      "['1C', '45', '45', '2C', '14', '31', '25', '4 ']\n"
     ]
    }
   ],
   "source": [
    "# 数字开头的任意两个字符\n",
    "r = re.findall(\"\\d.\", a)\n",
    "print(r)"
   ]
  },
  {
   "cell_type": "code",
   "execution_count": 10,
   "metadata": {},
   "outputs": [
    {
     "name": "stdout",
     "output_type": "stream",
     "text": [
      "['1C45Java452C#1431254 Python|J']\n"
     ]
    }
   ],
   "source": [
    "a = '1C45Java452C#1431254 Python|Javascript'\n",
    "# 贪婪匹配\n",
    "# 匹配以J结尾的任意字符，J 是文本中最后出现的 J 只匹配到1个最大化\n",
    "r = re.findall(\".*J\", a)\n",
    "print(r)"
   ]
  },
  {
   "cell_type": "code",
   "execution_count": 11,
   "metadata": {},
   "outputs": [
    {
     "name": "stdout",
     "output_type": "stream",
     "text": [
      "['1C45J', 'ava452C#1431254 Python|J']\n"
     ]
    }
   ],
   "source": [
    "# 非贪婪匹配  匹配到多个以 J 结尾的字符\n",
    "r = re.findall(\".*?J\", a)\n",
    "print(r)"
   ]
  },
  {
   "cell_type": "code",
   "execution_count": 12,
   "metadata": {},
   "outputs": [
    {
     "name": "stdout",
     "output_type": "stream",
     "text": [
      "['143', '125']\n"
     ]
    }
   ],
   "source": [
    "# 字符集[]  匹配含有三个字符的，每个字符满足[]中的字符集\n",
    "r = re.findall(\"[12][342][1235]\", a)\n",
    "print(r)"
   ]
  },
  {
   "cell_type": "code",
   "execution_count": 14,
   "metadata": {},
   "outputs": [
    {
     "name": "stdout",
     "output_type": "stream",
     "text": [
      "['C', 'Java', 'C', 'Python', 'Javascript']\n"
     ]
    }
   ],
   "source": [
    "# 匹配所有以字母字符串\n",
    "a = '1C45Java452C#1431254 Python|Javascript'\n",
    "r = re.findall(\"[a-zA-Z]+\", a)\n",
    "print(r)"
   ]
  },
  {
   "cell_type": "code",
   "execution_count": 15,
   "metadata": {},
   "outputs": [
    {
     "name": "stdout",
     "output_type": "stream",
     "text": [
      "['Java', 'Python', 'Javasc', 'ript']\n"
     ]
    }
   ],
   "source": [
    "# 指定字符串长度{} 4 或者 6  注意4和6直接不能有空格 最大匹配\n",
    "# ['Java', 'Python', 'Javasc', 'ript']\n",
    "r = re.findall(\"[a-zA-Z]{4,6}\", a)\n",
    "print(r)"
   ]
  },
  {
   "cell_type": "code",
   "execution_count": 17,
   "metadata": {},
   "outputs": [
    {
     "name": "stdout",
     "output_type": "stream",
     "text": [
      "['Python2', 'Python3']\n"
     ]
    }
   ],
   "source": [
    "# 泛匹配与精确匹配\n",
    "a = 'Python2Python3'\n",
    "\n",
    "# 匹配Python和其后面的数字\n",
    "# ['Python2', 'Python3']\n",
    "r = re.findall(\"Python\\d\", a)\n",
    "print(r)"
   ]
  },
  {
   "cell_type": "code",
   "execution_count": 18,
   "metadata": {},
   "outputs": [
    {
     "name": "stdout",
     "output_type": "stream",
     "text": [
      "['2', '3']\n"
     ]
    }
   ],
   "source": [
    "# 匹配Python后面的数字\n",
    "# ['2', '3']\n",
    "r = re.findall(\"Python(\\d)\", a)\n",
    "print(r)"
   ]
  },
  {
   "cell_type": "code",
   "execution_count": 19,
   "metadata": {},
   "outputs": [
    {
     "name": "stdout",
     "output_type": "stream",
     "text": [
      "[('Python', '2'), ('Python', '3')]\n"
     ]
    }
   ],
   "source": [
    "# 匹配到元组类型的列表\n",
    "r = re.findall(\"(Python)(\\d)\", a)\n",
    "print(r)"
   ]
  },
  {
   "cell_type": "code",
   "execution_count": 20,
   "metadata": {},
   "outputs": [
    {
     "name": "stdout",
     "output_type": "stream",
     "text": [
      "[]\n"
     ]
    }
   ],
   "source": [
    "# 匹配字符串中以“(”开头的字符\n",
    "r = re.findall(\"\\(Python\\d\\)\", a)\n",
    "print(r)"
   ]
  },
  {
   "cell_type": "code",
   "execution_count": 16,
   "metadata": {},
   "outputs": [],
   "source": [
    "text = \"\"\"\n",
    "\n",
    "<div class=\"celeInfo-right clearfix\">\n",
    "            <div class=\"movie-brief-container\">\n",
    "      <h1 class=\"name\">亲亲哒</h1>\n",
    "      <div class=\"ename ellipsis\">Sorrow without Tears</div>\n",
    "      <ul>\n",
    "        <li class=\"ellipsis\">\n",
    "            <a class=\"text-link\" href=\"/films?catId=1\" target=\"_blank\"> 剧情 </a>\n",
    "            <a class=\"text-link\" href=\"/films?catId=16\" target=\"_blank\"> 家庭 </a>\n",
    "        </li>\n",
    "        <li class=\"ellipsis\">\n",
    "        中国大陆\n",
    "          / 95分钟\n",
    "        </li>\n",
    "        <li class=\"ellipsis\">2020-05-28大陆上映</li>\n",
    "      </ul>\n",
    "    </div>\n",
    "    <div class=\"action-buyBtn\">\n",
    "      <div class=\"action clearfix\" data-val=\"{movieid:1208919}\">\n",
    "        <a class=\"wish \" data-wish=\"false\" data-score=\"\" data-bid=\"b_gbxqtw6x\">\n",
    "          <div>\n",
    "            <i class=\"icon wish-icon\"></i>\n",
    "              <span class=\"wish-msg\" data-act=\"wish-click\">想看</span>\n",
    "          </div>\n",
    "        </a>\n",
    "        <a class=\"score-btn \" data-bid=\"b_rxxpcgwd\">\n",
    "          <div>\n",
    "            <i class=\"icon score-btn-icon\"></i>\n",
    "            <span class=\"score-btn-msg\" data-act=\"comment-open-click\">\n",
    "                评分\n",
    "            </span>\n",
    "          </div>\n",
    "        </a>\n",
    "      </div>\n",
    "    </div>\n",
    "\n",
    "    <div class=\"movie-stats-container\">\n",
    "\n",
    "        <div class=\"movie-index\">\n",
    "          <p class=\"movie-index-title\">想看数</p>\n",
    "          <div class=\"movie-index-content score normal-score\">\n",
    "              <span class=\"index-left info-num one-line\"><span class=\"stonefont\"></span></span>\n",
    "          </div>\n",
    "        </div>\n",
    "\n",
    "        \n",
    "\n",
    "        <div class=\"movie-index\">\n",
    "          <p class=\"movie-index-title\">累计票房</p>\n",
    "          <div class=\"movie-index-content box\">\n",
    "              <span class=\"no-info\">(暂无)</span>\n",
    "          </div>\n",
    "        </div>\n",
    "    </div>\n",
    "\n",
    "      </div>\n",
    "\n",
    "\"\"\""
   ]
  },
  {
   "cell_type": "code",
   "execution_count": 21,
   "metadata": {},
   "outputs": [
    {
     "name": "stdout",
     "output_type": "stream",
     "text": [
      "['想看数', '累计票房']\n"
     ]
    }
   ],
   "source": [
    "# re.S表示回车换行继续匹配 ()表示只匹配括号中的内容\n",
    "# ['想看数', '累计票房']\n",
    "r = re.findall('<p class=\"movie-index-title\">(.*?)</p>', text, re.S)\n",
    "print(r)"
   ]
  },
  {
   "cell_type": "code",
   "execution_count": 22,
   "metadata": {},
   "outputs": [
    {
     "name": "stdout",
     "output_type": "stream",
     "text": [
      "['<p class=\"movie-index-title\">想看数</p>', '<p class=\"movie-index-title\">累计票房</p>']\n"
     ]
    }
   ],
   "source": [
    "# ['<p class=\"movie-index-title\">想看数</p>', '<p class=\"movie-index-title\">累计票房</p>']\n",
    "r = re.findall('<p class=\"movie-index-title\">.*?</p>', text, re.S)\n",
    "print(r)"
   ]
  },
  {
   "cell_type": "markdown",
   "metadata": {},
   "source": [
    "## python中re模块compile与findall"
   ]
  },
  {
   "cell_type": "code",
   "execution_count": 42,
   "metadata": {},
   "outputs": [
    {
     "name": "stdout",
     "output_type": "stream",
     "text": [
      "('010', '12345')\n",
      "[('010', '12345')]\n"
     ]
    }
   ],
   "source": [
    "re_telephone = re.compile('^(\\d{3})-(\\d{3,8})$')\n",
    "A = re_telephone.match('010-12345').groups()\n",
    "print(A)\n",
    "\n",
    "print(re.findall('^(\\d{3})-(\\d{3,8})$', '010-12345'))"
   ]
  },
  {
   "cell_type": "markdown",
   "metadata": {},
   "source": [
    "## 社交网络文本的处理"
   ]
  },
  {
   "cell_type": "markdown",
   "metadata": {},
   "source": [
    "### 使用nltk对社交网络文本处理"
   ]
  },
  {
   "cell_type": "code",
   "execution_count": 56,
   "metadata": {},
   "outputs": [
    {
     "name": "stdout",
     "output_type": "stream",
     "text": [
      "['RT', '@', 'angelababy', ':', 'love', 'you', 'baby', '!', ':', 'D', 'http', ':', '//ah.love', '#', '168cm']\n"
     ]
    }
   ],
   "source": [
    "from nltk.tokenize import word_tokenize\n",
    "\n",
    "tweet = 'RT @angelababy: love you baby! :D http://ah.love #168cm'\n",
    "print(word_tokenize(tweet))"
   ]
  },
  {
   "cell_type": "markdown",
   "metadata": {},
   "source": [
    "### 使用正则表达式对社交网络文本处理"
   ]
  },
  {
   "cell_type": "code",
   "execution_count": 68,
   "metadata": {},
   "outputs": [
    {
     "name": "stdout",
     "output_type": "stream",
     "text": [
      "['RT', '@angelababy', ':', 'love', 'you', 'baby', '!', ':', 'D', 'http://ah.love', '#168cm']\n"
     ]
    }
   ],
   "source": [
    "\n",
    "# ?: 非获取匹配，匹配冒号后的内容但不获取匹配结果，不进行存储供以后使用\n",
    "import regex as re\n",
    "\n",
    "tweet = 'RT @angelababy: love you baby! :D http://ah.love #168cm'\n",
    "\n",
    "regex_str = [\n",
    "    r'<[^>]+>',     # HTML tags\n",
    "    r'(?:@[\\w_]+)',  # @某人\n",
    "    r\"(?:\\#+[\\w_]+[\\w\\'_\\-]*[\\w_]+)\", # 话题标签\n",
    "    r'http[s]?://(?:[a-z]|[0-9]|[$-_@.&amp;+]|[!*\\(\\),]|(?:%[0-9a-f][0-9a-f]))+', #RULs\n",
    "    r'(?:(?:\\d+,?)+(?:\\.?\\d+)?)', # 数字\n",
    "    r\"(?:[a-z][a-z'\\-_]+[a-z])\", # 含有 - 和 ‘ 的单词\n",
    "    r'(?:[\\w_]+)', # 其他\n",
    "    r'(?:\\S)' # 其他\n",
    "]\n",
    "\n",
    "tokens_re = re.compile(r'('+'|'.join(regex_str)+')', re.VERBOSE | re.IGNORECASE)\n",
    "\n",
    "result = tokens_re.findall(tweet)\n",
    "print(result)\n"
   ]
  }
 ],
 "metadata": {
  "kernelspec": {
   "display_name": "Python 3",
   "language": "python",
   "name": "python3"
  },
  "language_info": {
   "codemirror_mode": {
    "name": "ipython",
    "version": 3
   },
   "file_extension": ".py",
   "mimetype": "text/x-python",
   "name": "python",
   "nbconvert_exporter": "python",
   "pygments_lexer": "ipython3",
   "version": "3.7.7"
  }
 },
 "nbformat": 4,
 "nbformat_minor": 4
}
