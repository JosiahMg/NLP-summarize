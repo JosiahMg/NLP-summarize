{
 "cells": [
  {
   "cell_type": "markdown",
   "metadata": {},
   "source": [
    "## 过滤停用词"
   ]
  },
  {
   "cell_type": "markdown",
   "metadata": {},
   "source": [
    "### 英文停用词"
   ]
  },
  {
   "cell_type": "code",
   "execution_count": null,
   "metadata": {},
   "outputs": [],
   "source": [
    "import nltk\n",
    "from nltk.corpus import stopwords\n",
    "\n",
    "sentence = 'She is a beautiful girl.'\n",
    "word_list = nltk.word_tokenize(sentence)\n",
    "\n",
    "filtered_words = [word for word in word_list if word not in stopwords.words('english')]\n",
    "print(word_list)\n",
    "print(filtered_words)"
   ]
  },
  {
   "cell_type": "markdown",
   "metadata": {},
   "source": [
    "### 中文停用词\n",
    "现在对于中文分词，分词工具有很多种，比如说：jieba分词、thulac、SnowNLP等"
   ]
  },
  {
   "cell_type": "code",
   "execution_count": 18,
   "metadata": {},
   "outputs": [
    {
     "name": "stdout",
     "output_type": "stream",
     "text": [
      "爱 北京 天安门 北京天安门广场 照相 去 清华大学 深造 \n"
     ]
    }
   ],
   "source": [
    "import jieba\n",
    "\n",
    "# 创建停用词列表\n",
    "def stopwordslist():\n",
    "    stopwords = [line.strip() for line in open('../corpus/stopwords.txt', encoding='UTF-8').readlines()]\n",
    "    return stopwords\n",
    "\n",
    "# 对句子进行中文分词\n",
    "def seg_depart(sentence):\n",
    "    # 分词\n",
    "    sentence_depart = jieba.cut(sentence.strip())\n",
    "    # 创建停用词表\n",
    "    stopwords = stopwordslist()\n",
    "    outstr = ''\n",
    "    # 去除停用词\n",
    "    for word in sentence_depart:\n",
    "        if word not in stopwords:\n",
    "            if word != '\\t':\n",
    "                outstr += word\n",
    "                outstr += \" \"\n",
    "    return outstr\n",
    "\n",
    "sentence = \"我爱北京天安门，我在北京天安门广场照相，我去清华大学进行深造！\"\n",
    "\n",
    "print(seg_depart(sentence))\n",
    "    "
   ]
  }
 ],
 "metadata": {
  "kernelspec": {
   "display_name": "Python 3",
   "language": "python",
   "name": "python3"
  },
  "language_info": {
   "codemirror_mode": {
    "name": "ipython",
    "version": 3
   },
   "file_extension": ".py",
   "mimetype": "text/x-python",
   "name": "python",
   "nbconvert_exporter": "python",
   "pygments_lexer": "ipython3",
   "version": "3.7.7"
  }
 },
 "nbformat": 4,
 "nbformat_minor": 4
}
