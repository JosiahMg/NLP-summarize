{
 "cells": [
  {
   "cell_type": "markdown",
   "metadata": {},
   "source": [
    "# word2vec"
   ]
  },
  {
   "cell_type": "markdown",
   "metadata": {},
   "source": [
    "## 分词\n",
    "首先使用jieba分词工具对文本进行分词处理，处理完成放置到新的文件"
   ]
  },
  {
   "cell_type": "code",
   "execution_count": null,
   "metadata": {},
   "outputs": [],
   "source": [
    "import jieba\n",
    "import jieba.analyse\n",
    "\n",
    "# suggest_freq 设置词为整体，不被分离\n",
    "\n",
    "jieba.suggest_freq('沙瑞金', True)\n",
    "jieba.suggest_freq('田国富', True)\n",
    "jieba.suggest_freq('高育良', True)\n",
    "jieba.suggest_freq('侯亮平', True)\n",
    "jieba.suggest_freq('钟小艾', True)\n",
    "jieba.suggest_freq('陈岩石', True)\n",
    "jieba.suggest_freq('欧阳菁', True)\n",
    "jieba.suggest_freq('易学习', True)\n",
    "jieba.suggest_freq('王大路', True)\n",
    "jieba.suggest_freq('蔡成功', True)\n",
    "jieba.suggest_freq('孙连城', True)\n",
    "jieba.suggest_freq('季昌明', True)\n",
    "jieba.suggest_freq('丁义珍', True)\n",
    "jieba.suggest_freq('郑西坡', True)\n",
    "jieba.suggest_freq('赵东来', True)\n",
    "jieba.suggest_freq('高小琴', True)\n",
    "jieba.suggest_freq('赵瑞龙', True)\n",
    "jieba.suggest_freq('林华华', True)\n",
    "jieba.suggest_freq('陆亦可', True)\n",
    "jieba.suggest_freq('刘新建', True)\n",
    "jieba.suggest_freq('刘庆祝', True)\n",
    "\n",
    "with open('../corpus/in_the_name_of_people.txt', 'rb') as f:\n",
    "    document = f.read()\n",
    "#     document_decode = document.decode('GBK')\n",
    "    document_cut = jieba.cut(document)\n",
    "    result = ' '.join(document_cut)\n",
    "    result = result.encode('utf-8')\n",
    "    with open('../corpus/in_the_name_of_people_segment.txt', 'wb') as f2:\n",
    "        f2.write(result)\n",
    "\n",
    "f.close()\n",
    "f2.close()   \n"
   ]
  },
  {
   "cell_type": "markdown",
   "metadata": {},
   "source": [
    "## 模型建立"
   ]
  },
  {
   "cell_type": "code",
   "execution_count": null,
   "metadata": {},
   "outputs": [],
   "source": [
    "from gensim.models import word2vec\n",
    "\n",
    "\n",
    "min_word_count = 10 # ⼀个word，最少出现多少次 才被计⼊\n",
    "num_workers = 4 # 多少thread⼀起跑（快⼀点⼉）\n",
    "size = 100 # vec的size\n",
    "window = 3 # 前后观察多⻓的“语境”\n",
    "\n",
    "\n",
    "sentences = word2vec.LineSentence('../corpus/in_the_name_of_people_segment.txt') \n",
    "\n",
    "\n",
    "model = word2vec.Word2Vec(sentences, size=size, workers=num_workers, \\\n",
    "                          min_count = min_word_count, \\\n",
    "                          window = window)\n",
    "\n",
    "model.train(sentences, total_examples=sentences.max_sentence_length, epochs=10)"
   ]
  },
  {
   "cell_type": "markdown",
   "metadata": {},
   "source": [
    "## 模型词典库"
   ]
  },
  {
   "cell_type": "code",
   "execution_count": null,
   "metadata": {},
   "outputs": [],
   "source": [
    "for key, value in model.wv.vocab.items():\n",
    "    print(key)"
   ]
  },
  {
   "cell_type": "markdown",
   "metadata": {},
   "source": [
    "## 相似度计算"
   ]
  },
  {
   "cell_type": "code",
   "execution_count": 16,
   "metadata": {},
   "outputs": [
    {
     "data": {
      "text/plain": [
       "[('陆亦可', 0.9175041913986206),\n",
       " ('钟小艾', 0.8647891879081726),\n",
       " ('吴慧芬', 0.864604115486145),\n",
       " ('季昌明', 0.8526846170425415),\n",
       " ('祁同伟', 0.8233333826065063),\n",
       " ('赵东来', 0.8122841119766235),\n",
       " ('肖钢玉', 0.7959806323051453),\n",
       " ('罢', 0.7853153944015503),\n",
       " ('梁璐', 0.7602945566177368),\n",
       " ('高育良', 0.7558637857437134)]"
      ]
     },
     "execution_count": 16,
     "metadata": {},
     "output_type": "execute_result"
    }
   ],
   "source": [
    "model.wv.similarity('沙发', '我')\n",
    "model.wv.most_similar(positive='侯亮平')"
   ]
  },
  {
   "cell_type": "markdown",
   "metadata": {},
   "source": [
    "## 与侯亮平最相似的前10个，只显示三个字的词"
   ]
  },
  {
   "cell_type": "code",
   "execution_count": null,
   "metadata": {},
   "outputs": [],
   "source": [
    "for value in model.wv.similar_by_word('侯亮平', topn=10):\n",
    "    if len(value[0]) == 3:\n",
    "        print(value)"
   ]
  },
  {
   "cell_type": "markdown",
   "metadata": {},
   "source": [
    "## 词向量"
   ]
  },
  {
   "cell_type": "code",
   "execution_count": null,
   "metadata": {},
   "outputs": [],
   "source": [
    "model.wv.__getitem__('人民')"
   ]
  },
  {
   "cell_type": "code",
   "execution_count": null,
   "metadata": {},
   "outputs": [],
   "source": []
  },
  {
   "cell_type": "code",
   "execution_count": null,
   "metadata": {},
   "outputs": [],
   "source": []
  }
 ],
 "metadata": {
  "kernelspec": {
   "display_name": "Python 3",
   "language": "python",
   "name": "python3"
  },
  "language_info": {
   "codemirror_mode": {
    "name": "ipython",
    "version": 3
   },
   "file_extension": ".py",
   "mimetype": "text/x-python",
   "name": "python",
   "nbconvert_exporter": "python",
   "pygments_lexer": "ipython3",
   "version": "3.7.7"
  }
 },
 "nbformat": 4,
 "nbformat_minor": 4
}
